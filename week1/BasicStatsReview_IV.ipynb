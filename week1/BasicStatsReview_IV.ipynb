{
 "cells": [
  {
   "cell_type": "code",
   "execution_count": 1,
   "id": "4fb150b1-8227-4836-891e-faee3c4e02ae",
   "metadata": {},
   "outputs": [],
   "source": [
    "import numpy as np\n",
    "import pandas as pd\n",
    "from matplotlib import pyplot as plt\n",
    "import seaborn as sns"
   ]
  },
  {
   "cell_type": "code",
   "execution_count": 2,
   "id": "c2e70a59-ec3e-4d89-97c6-b40f1482a8f9",
   "metadata": {},
   "outputs": [],
   "source": [
    "plt.rcParams[\"figure.figsize\"] = (9,7)"
   ]
  },
  {
   "cell_type": "markdown",
   "id": "8aedca44-5efc-4514-8396-886414c24bb7",
   "metadata": {},
   "source": [
    "# Measuring Linear Association with the Correlation Function\n",
    "\n",
    "On of the most important tools in time series analysis is the Auto-Correlation Function (ACF). "
   ]
  },
  {
   "cell_type": "code",
   "execution_count": 3,
   "id": "d756678d-a3b4-4f7a-a6b7-2967feaea840",
   "metadata": {},
   "outputs": [
    {
     "data": {
      "text/html": [
       "<div>\n",
       "<style scoped>\n",
       "    .dataframe tbody tr th:only-of-type {\n",
       "        vertical-align: middle;\n",
       "    }\n",
       "\n",
       "    .dataframe tbody tr th {\n",
       "        vertical-align: top;\n",
       "    }\n",
       "\n",
       "    .dataframe thead th {\n",
       "        text-align: right;\n",
       "    }\n",
       "</style>\n",
       "<table border=\"1\" class=\"dataframe\">\n",
       "  <thead>\n",
       "    <tr style=\"text-align: right;\">\n",
       "      <th></th>\n",
       "      <th>Girth</th>\n",
       "      <th>Height</th>\n",
       "      <th>Volume</th>\n",
       "    </tr>\n",
       "  </thead>\n",
       "  <tbody>\n",
       "    <tr>\n",
       "      <th>0</th>\n",
       "      <td>8.3</td>\n",
       "      <td>70</td>\n",
       "      <td>10.3</td>\n",
       "    </tr>\n",
       "    <tr>\n",
       "      <th>1</th>\n",
       "      <td>8.6</td>\n",
       "      <td>65</td>\n",
       "      <td>10.3</td>\n",
       "    </tr>\n",
       "    <tr>\n",
       "      <th>2</th>\n",
       "      <td>8.8</td>\n",
       "      <td>63</td>\n",
       "      <td>10.2</td>\n",
       "    </tr>\n",
       "    <tr>\n",
       "      <th>3</th>\n",
       "      <td>10.5</td>\n",
       "      <td>72</td>\n",
       "      <td>16.4</td>\n",
       "    </tr>\n",
       "    <tr>\n",
       "      <th>4</th>\n",
       "      <td>10.7</td>\n",
       "      <td>81</td>\n",
       "      <td>18.8</td>\n",
       "    </tr>\n",
       "  </tbody>\n",
       "</table>\n",
       "</div>"
      ],
      "text/plain": [
       "   Girth  Height  Volume\n",
       "0    8.3      70    10.3\n",
       "1    8.6      65    10.3\n",
       "2    8.8      63    10.2\n",
       "3   10.5      72    16.4\n",
       "4   10.7      81    18.8"
      ]
     },
     "execution_count": 3,
     "metadata": {},
     "output_type": "execute_result"
    }
   ],
   "source": [
    "df = pd.read_csv('../dataset/trees.csv')\n",
    "df.head()"
   ]
  },
  {
   "cell_type": "code",
   "execution_count": 4,
   "id": "641c231b-ea39-4c34-90b5-d87d1214ad0d",
   "metadata": {},
   "outputs": [
    {
     "data": {
      "image/png": "[encoded data removed]",
      "text/plain": [
       "<Figure size 540x540 with 12 Axes>"
      ]
     },
     "metadata": {
      "needs_background": "light"
     },
     "output_type": "display_data"
    }
   ],
   "source": [
    "# Visualizing data with pair plots\n",
    "sns.pairplot(df);"
   ]
  },
  {
   "cell_type": "markdown",
   "id": "b9d389d1-0bc5-4796-9255-c836aba2e6c8",
   "metadata": {},
   "source": [
    "As we can see girth is highlly associated/correlated with volume. So based on the above plot we can conclude that girth is a strong predictor of volume in these trees.   \n",
    "The height of the tree is also correlated with volume. However not that much like girth. "
   ]
  },
  {
   "cell_type": "code",
   "execution_count": 6,
   "id": "5f8bdb4b-ea3a-4b9e-b998-6954419030d2",
   "metadata": {},
   "outputs": [
    {
     "data": {
      "text/html": [
       "<div>\n",
       "<style scoped>\n",
       "    .dataframe tbody tr th:only-of-type {\n",
       "        vertical-align: middle;\n",
       "    }\n",
       "\n",
       "    .dataframe tbody tr th {\n",
       "        vertical-align: top;\n",
       "    }\n",
       "\n",
       "    .dataframe thead th {\n",
       "        text-align: right;\n",
       "    }\n",
       "</style>\n",
       "<table border=\"1\" class=\"dataframe\">\n",
       "  <thead>\n",
       "    <tr style=\"text-align: right;\">\n",
       "      <th></th>\n",
       "      <th>Girth</th>\n",
       "      <th>Height</th>\n",
       "      <th>Volume</th>\n",
       "    </tr>\n",
       "  </thead>\n",
       "  <tbody>\n",
       "    <tr>\n",
       "      <th>Girth</th>\n",
       "      <td>9.847914</td>\n",
       "      <td>10.383333</td>\n",
       "      <td>49.888118</td>\n",
       "    </tr>\n",
       "    <tr>\n",
       "      <th>Height</th>\n",
       "      <td>10.383333</td>\n",
       "      <td>40.600000</td>\n",
       "      <td>62.660000</td>\n",
       "    </tr>\n",
       "    <tr>\n",
       "      <th>Volume</th>\n",
       "      <td>49.888118</td>\n",
       "      <td>62.660000</td>\n",
       "      <td>270.202796</td>\n",
       "    </tr>\n",
       "  </tbody>\n",
       "</table>\n",
       "</div>"
      ],
      "text/plain": [
       "            Girth     Height      Volume\n",
       "Girth    9.847914  10.383333   49.888118\n",
       "Height  10.383333  40.600000   62.660000\n",
       "Volume  49.888118  62.660000  270.202796"
      ]
     },
     "execution_count": 6,
     "metadata": {},
     "output_type": "execute_result"
    }
   ],
   "source": [
    "# Calculate the covariance\n",
    "df.cov()"
   ]
  },
  {
   "cell_type": "markdown",
   "id": "317cd834-3cae-4bca-8b18-ddf082076851",
   "metadata": {},
   "source": [
    "This might be a little surprising. The covariance between girth and volume is just a little under 50. While, the covariance between height and volume is a way more.  \n",
    "That is not consistent with the graphs we just saw, unless you start thinking about the units that are involved."
   ]
  },
  {
   "cell_type": "code",
   "execution_count": 7,
   "id": "22f83700-10af-4247-a768-5f63016780f6",
   "metadata": {},
   "outputs": [
    {
     "data": {
      "text/html": [
       "<div>\n",
       "<style scoped>\n",
       "    .dataframe tbody tr th:only-of-type {\n",
       "        vertical-align: middle;\n",
       "    }\n",
       "\n",
       "    .dataframe tbody tr th {\n",
       "        vertical-align: top;\n",
       "    }\n",
       "\n",
       "    .dataframe thead th {\n",
       "        text-align: right;\n",
       "    }\n",
       "</style>\n",
       "<table border=\"1\" class=\"dataframe\">\n",
       "  <thead>\n",
       "    <tr style=\"text-align: right;\">\n",
       "      <th></th>\n",
       "      <th>Girth</th>\n",
       "      <th>Height</th>\n",
       "      <th>Volume</th>\n",
       "    </tr>\n",
       "  </thead>\n",
       "  <tbody>\n",
       "    <tr>\n",
       "      <th>Girth</th>\n",
       "      <td>1.000000</td>\n",
       "      <td>0.51928</td>\n",
       "      <td>0.967119</td>\n",
       "    </tr>\n",
       "    <tr>\n",
       "      <th>Height</th>\n",
       "      <td>0.519280</td>\n",
       "      <td>1.00000</td>\n",
       "      <td>0.598250</td>\n",
       "    </tr>\n",
       "    <tr>\n",
       "      <th>Volume</th>\n",
       "      <td>0.967119</td>\n",
       "      <td>0.59825</td>\n",
       "      <td>1.000000</td>\n",
       "    </tr>\n",
       "  </tbody>\n",
       "</table>\n",
       "</div>"
      ],
      "text/plain": [
       "           Girth   Height    Volume\n",
       "Girth   1.000000  0.51928  0.967119\n",
       "Height  0.519280  1.00000  0.598250\n",
       "Volume  0.967119  0.59825  1.000000"
      ]
     },
     "execution_count": 7,
     "metadata": {},
     "output_type": "execute_result"
    }
   ],
   "source": [
    "# Calculate the correlation\n",
    "df.corr()"
   ]
  },
  {
   "cell_type": "markdown",
   "id": "2a471afd-5273-4ff4-8ef0-9847adfc24b0",
   "metadata": {},
   "source": [
    "This makes more sense and it's consistent with the above plots.  \n",
    "When we take a correlation we look at the relationship without worry about the units. As we switch from yards to feet to miles to kilometers, we're going to change the covariance, but the correlation should remain the same. And reassuringly here, we see that the correlation between girth and volume is really quite high."
   ]
  },
  {
   "cell_type": "code",
   "execution_count": null,
   "id": "dfacc13e-c35f-4b12-a82e-5ea2cff55d2a",
   "metadata": {},
   "outputs": [],
   "source": []
  }
 ],
 "metadata": {
  "kernelspec": {
   "display_name": "Python 3",
   "language": "python",
   "name": "python3"
  },
  "language_info": {
   "codemirror_mode": {
    "name": "ipython",
    "version": 3
   },
   "file_extension": ".py",
   "mimetype": "text/x-python",
   "name": "python",
   "nbconvert_exporter": "python",
   "pygments_lexer": "ipython3",
   "version": "3.9.4"
  }
 },
 "nbformat": 4,
 "nbformat_minor": 5
}
