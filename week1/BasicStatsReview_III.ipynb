{
 "cells": [
  {
   "cell_type": "code",
   "execution_count": 1,
   "id": "95d98e22-567b-450c-88e2-c9499ce7f11f",
   "metadata": {},
   "outputs": [],
   "source": [
    "import numpy as np\n",
    "import pandas as pd\n",
    "from matplotlib import pyplot as plt\n",
    "import seaborn as sns\n",
    "import statsmodels.stats.api as sms\n",
    "import scipy.stats as st"
   ]
  },
  {
   "cell_type": "code",
   "execution_count": 2,
   "id": "c3cbaef7-13b3-4ddc-b130-1a2d28d1e8be",
   "metadata": {},
   "outputs": [],
   "source": [
    "plt.rcParams[\"figure.figsize\"] = (9,7)"
   ]
  },
  {
   "cell_type": "markdown",
   "id": "5dd2d5cd-871e-4cd2-9ea0-5b4f6e95034a",
   "metadata": {},
   "source": [
    "# Reviewing Basic Statistics III - Inference\n",
    "\n",
    "In this part we are going to use a dataset discussed in William Gosset's classic paper: *The probable Error of a Mean*. It describes an experiment in which two sleeping aides are administered during the course of a clinical trial to a group of 10 patients.   \n",
    "There are two drugs and we're looking at the increase over control for each of these 10 individuals with each drug. \n",
    "\n",
    "The form of the data frame is 20 observations x 3 variables:\n",
    "1. extra sleep obtained as a consequence of taking the drug (“extra”), \n",
    "2. a label telling us which drug was taken (“group”), and \n",
    "3. patient IDs (\"ID\").\n"
   ]
  },
  {
   "cell_type": "code",
   "execution_count": 3,
   "id": "0b7666eb-66e6-4c25-9ed5-a822eda89c75",
   "metadata": {},
   "outputs": [
    {
     "data": {
      "text/html": [
       "<div>\n",
       "<style scoped>\n",
       "    .dataframe tbody tr th:only-of-type {\n",
       "        vertical-align: middle;\n",
       "    }\n",
       "\n",
       "    .dataframe tbody tr th {\n",
       "        vertical-align: top;\n",
       "    }\n",
       "\n",
       "    .dataframe thead th {\n",
       "        text-align: right;\n",
       "    }\n",
       "</style>\n",
       "<table border=\"1\" class=\"dataframe\">\n",
       "  <thead>\n",
       "    <tr style=\"text-align: right;\">\n",
       "      <th></th>\n",
       "      <th>extra</th>\n",
       "      <th>group</th>\n",
       "      <th>ID</th>\n",
       "    </tr>\n",
       "  </thead>\n",
       "  <tbody>\n",
       "    <tr>\n",
       "      <th>0</th>\n",
       "      <td>0.7</td>\n",
       "      <td>1</td>\n",
       "      <td>1</td>\n",
       "    </tr>\n",
       "    <tr>\n",
       "      <th>1</th>\n",
       "      <td>-1.6</td>\n",
       "      <td>1</td>\n",
       "      <td>2</td>\n",
       "    </tr>\n",
       "    <tr>\n",
       "      <th>2</th>\n",
       "      <td>-0.2</td>\n",
       "      <td>1</td>\n",
       "      <td>3</td>\n",
       "    </tr>\n",
       "    <tr>\n",
       "      <th>3</th>\n",
       "      <td>-1.2</td>\n",
       "      <td>1</td>\n",
       "      <td>4</td>\n",
       "    </tr>\n",
       "    <tr>\n",
       "      <th>4</th>\n",
       "      <td>-0.1</td>\n",
       "      <td>1</td>\n",
       "      <td>5</td>\n",
       "    </tr>\n",
       "  </tbody>\n",
       "</table>\n",
       "</div>"
      ],
      "text/plain": [
       "   extra  group  ID\n",
       "0    0.7      1   1\n",
       "1   -1.6      1   2\n",
       "2   -0.2      1   3\n",
       "3   -1.2      1   4\n",
       "4   -0.1      1   5"
      ]
     },
     "execution_count": 3,
     "metadata": {},
     "output_type": "execute_result"
    }
   ],
   "source": [
    "df = pd.read_csv('../dataset/sleep.csv', usecols=['extra', 'group', 'ID'])\n",
    "df.head()"
   ]
  },
  {
   "cell_type": "code",
   "execution_count": 4,
   "id": "5352a04b-5b0f-4185-899d-62c3cfc67432",
   "metadata": {},
   "outputs": [
    {
     "data": {
      "image/png": "[encoded data removed]",
      "text/plain": [
       "<Figure size 504x648 with 1 Axes>"
      ]
     },
     "metadata": {
      "needs_background": "light"
     },
     "output_type": "display_data"
    }
   ],
   "source": [
    "# Of course always plot your data\n",
    "plt.figure(figsize=(7,9)) \n",
    "sns.boxplot(x=\"group\", y=\"extra\", data=df)\n",
    "plt.title('Extra Sleep in Gosset Data by Groups');"
   ]
  },
  {
   "cell_type": "markdown",
   "id": "c0fd18f6-ae2d-425c-8ec6-cfa2d603dbb1",
   "metadata": {},
   "source": [
    "it looks like the second group, the second drug has a pretty clear advantage over the first.   \n",
    "There isn't a big difference in heterogenity, however the median in the second group seems to be higher. The bar inside the box plot represents the median and not the mean.  \n",
    "\n",
    "That was the visual impression, what we need now is to follow up with a standard statistical test."
   ]
  },
  {
   "cell_type": "code",
   "execution_count": 5,
   "id": "78ffd510-45f9-4e82-960d-90f4cad1f910",
   "metadata": {},
   "outputs": [
    {
     "data": {
      "text/plain": [
       "Ttest_relResult(statistic=-4.062127683382037, pvalue=0.00283289019738427)"
      ]
     },
     "execution_count": 5,
     "metadata": {},
     "output_type": "execute_result"
    }
   ],
   "source": [
    "# Test your hypothesis\n",
    "extra1 = df[df['group'] == 1]['extra'].values\n",
    "extra2 = df[df['group'] == 2]['extra'].values\n",
    "# Paired t-test\n",
    "st.ttest_rel(extra1, extra2)"
   ]
  },
  {
   "cell_type": "markdown",
   "id": "0df79aec-18b4-45f4-99e9-36ce5e950cbc",
   "metadata": {},
   "source": [
    "We have a quite high negative t-value (if that were a z value from a normal distribution, it would be quite quite large) How large it is with a T distribution, dependeds on your sample size. Thus, we tend to believe that the visual evidence in the box plot is supported by the statistical approach. The p-value is quite small and our data are significant at the customary of $\\alpha = 0.01$\n",
    "> p < $\\alpha$ ➤ reject\n",
    "  \n",
    "The p value we obtain is less than the standard nickel (<.05). It's even less than point zero one. These data are highly significant.     \n",
    "So we are going to go with the Alternative hypothesis that indeed there is a difference between the two drugs.\n",
    "\n",
    "\n",
    "It is also good to report a confidence interval and another approach to a test like this would be to calculate the 95\\% confidence interval.  \n",
    "Our degree of freedom is: `df = Nr. of patients - 1 = 9` "
   ]
  },
  {
   "cell_type": "code",
   "execution_count": 34,
   "id": "39b80e10-1c7b-4280-8dcb-22ffd4f04452",
   "metadata": {},
   "outputs": [
    {
     "data": {
      "text/plain": [
       "-1.58"
      ]
     },
     "execution_count": 34,
     "metadata": {},
     "output_type": "execute_result"
    }
   ],
   "source": [
    "# Mean of the differences:\n",
    "np.mean(extra1 - extra2)"
   ]
  },
  {
   "cell_type": "code",
   "execution_count": 35,
   "id": "fa1678f7-0ec7-440e-91b2-5135ec678ae1",
   "metadata": {},
   "outputs": [
    {
     "data": {
      "text/plain": [
       "(-2.4598857632547286, -0.7001142367452713)"
      ]
     },
     "execution_count": 35,
     "metadata": {},
     "output_type": "execute_result"
    }
   ],
   "source": [
    "# 95% confidence interval\n",
    "st.t.interval(alpha=.95, df=9, loc=np.mean(extra1 - extra2), scale=st.sem(extra1 - extra2))\n",
    "# with st.sem: standard error of the mean"
   ]
  },
  {
   "cell_type": "markdown",
   "id": "4ffae6d7-1055-4509-aee7-ee5ef8b91c4a",
   "metadata": {},
   "source": [
    "<div class=\"alert alert-block alert-info\">\n",
    "<b>💡 General Framework for Hypothesis Tests:</b>\n",
    "    <ul>\n",
    "        <li> State clearly what your variables are (define your terms).</li>\n",
    "        <li> State the null and alternative hypotheses.</li>\n",
    "        <li> Decide upon a level of significance, $\\alpha$.</li>\n",
    "        <li> Compute a test statistic (z, t, chi-square, and F are popular stats)</li>\n",
    "        <li> Find the $p-$value corresponding to your test statistic (for left/right/or two tailed test).</li>\n",
    "        <li>Form a conclusion: if $p < \\alpha$ (improbable data) reject H0 otherwise do not reject. We typically do not accept, just like the courts never say that someone is innocent</li>\n",
    "    </ul>\n",
    "</div>"
   ]
  },
  {
   "cell_type": "markdown",
   "id": "3518dadd-32c2-4e21-bed4-1f90bfe714e3",
   "metadata": {},
   "source": [
    "<div class=\"alert alert-block alert-success\">\n",
    "    <b> In this Lab we learned to:</b>\n",
    "<ul>\n",
    "    <li> Perform a hypothesis test concerning means ✅  </li>\n",
    "    </ul>\n",
    "</div>"
   ]
  },
  {
   "cell_type": "code",
   "execution_count": null,
   "id": "69a619de-265f-4e8e-85c2-9ff7dd558fe9",
   "metadata": {},
   "outputs": [],
   "source": []
  }
 ],
 "metadata": {
  "kernelspec": {
   "display_name": "Python 3",
   "language": "python",
   "name": "python3"
  },
  "language_info": {
   "codemirror_mode": {
    "name": "ipython",
    "version": 3
   },
   "file_extension": ".py",
   "mimetype": "text/x-python",
   "name": "python",
   "nbconvert_exporter": "python",
   "pygments_lexer": "ipython3",
   "version": "3.9.4"
  }
 },
 "nbformat": 4,
 "nbformat_minor": 5
}
